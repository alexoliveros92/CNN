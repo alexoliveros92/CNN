{
  "nbformat": 4,
  "nbformat_minor": 0,
  "metadata": {
    "colab": {
      "provenance": []
    },
    "kernelspec": {
      "name": "python3",
      "display_name": "Python 3"
    },
    "language_info": {
      "name": "python"
    },
    "gpuClass": "premium",
    "accelerator": "TPU"
  },
  "cells": [
    {
      "cell_type": "markdown",
      "source": [
        "#Convolutional neural network"
      ],
      "metadata": {
        "id": "A3UxC5Y_NLSx"
      }
    },
    {
      "cell_type": "markdown",
      "source": [
        "## Data preparation\n",
        "\n"
      ],
      "metadata": {
        "id": "-fSBos2tofki"
      }
    },
    {
      "cell_type": "code",
      "source": [
        "import keras\n",
        "import numpy as np\n",
        "import pandas as pd\n",
        "import tensorflow as tf\n",
        "import matplotlib.pyplot as plt\n",
        "from keras.models import Sequential\n",
        "from tensorflow.keras import layers\n",
        "from keras.utils import to_categorical\n",
        "from keras.layers import Conv2D, MaxPooling2D\n",
        "from keras.layers import Dense, Dropout, Flatten\n",
        "from sklearn.model_selection import train_test_split\n",
        "from sklearn.metrics import classification_report, confusion_matrix\n",
        "from keras import optimizers"
      ],
      "metadata": {
        "id": "J9O0YdXXRczA"
      },
      "execution_count": null,
      "outputs": []
    },
    {
      "cell_type": "code",
      "source": [
        "#Creating a list with the name of each class in the dataset\n",
        "class_names = ['T-shirt/top', 'Trouser', 'Pullover', 'Dress', 'Coat', 'Sandal', 'Shirt', 'Sneaker', 'Bag', 'Ankle boot']"
      ],
      "metadata": {
        "id": "l6OqSBoHjW8i"
      },
      "execution_count": null,
      "outputs": []
    },
    {
      "cell_type": "code",
      "source": [
        "#Downloading the dataset\n",
        "dt = tf.keras.datasets.fashion_mnist.load_data()\n",
        "\n",
        "#Splitting the data into train and test sets\n",
        "(raw_images, r_labels), (raw_test_images, t_labels) = dt\n",
        "\n",
        "#Checking the data\n",
        "fig, ax1 = plt.subplots()\n",
        "fig.set_size_inches([1,1])\n",
        "ax1.imshow(raw_images[9])\n",
        "print(class_names[r_labels[9]])"
      ],
      "metadata": {
        "id": "MnNteIu1cWQq",
        "colab": {
          "base_uri": "https://localhost:8080/",
          "height": 261
        },
        "outputId": "f426566c-71d5-4f05-d3c7-ba98e288126a"
      },
      "execution_count": null,
      "outputs": [
        {
          "output_type": "stream",
          "name": "stdout",
          "text": [
            "Downloading data from https://storage.googleapis.com/tensorflow/tf-keras-datasets/train-labels-idx1-ubyte.gz\n",
            "29515/29515 [==============================] - 0s 0us/step\n",
            "Downloading data from https://storage.googleapis.com/tensorflow/tf-keras-datasets/train-images-idx3-ubyte.gz\n",
            "26421880/26421880 [==============================] - 0s 0us/step\n",
            "Downloading data from https://storage.googleapis.com/tensorflow/tf-keras-datasets/t10k-labels-idx1-ubyte.gz\n",
            "5148/5148 [==============================] - 0s 0us/step\n",
            "Downloading data from https://storage.googleapis.com/tensorflow/tf-keras-datasets/t10k-images-idx3-ubyte.gz\n",
            "4422102/4422102 [==============================] - 0s 0us/step\n",
            "Sandal\n"
          ]
        },
        {
          "output_type": "display_data",
          "data": {
            "text/plain": [
              "<Figure size 72x72 with 1 Axes>"
            ],
            "image/png": "[encoded data removed]"
          },
          "metadata": {
            "needs_background": "light"
          }
        }
      ]
    },
    {
      "cell_type": "code",
      "source": [
        "#Checking the balance of the classes in the train dataset\n",
        "df = pd.DataFrame(r_labels)\n",
        "df.value_counts()"
      ],
      "metadata": {
        "colab": {
          "base_uri": "https://localhost:8080/"
        },
        "id": "1yOhZO3jlqpA",
        "outputId": "2f975cc4-67f2-4858-eb31-060724b5e355"
      },
      "execution_count": null,
      "outputs": [
        {
          "output_type": "execute_result",
          "data": {
            "text/plain": [
              "0    6000\n",
              "1    6000\n",
              "2    6000\n",
              "3    6000\n",
              "4    6000\n",
              "5    6000\n",
              "6    6000\n",
              "7    6000\n",
              "8    6000\n",
              "9    6000\n",
              "dtype: int64"
            ]
          },
          "metadata": {},
          "execution_count": 39
        }
      ]
    },
    {
      "cell_type": "code",
      "source": [
        "#Checking the balance of the classes in the test dataset\n",
        "df = pd.DataFrame(t_labels)\n",
        "df.value_counts()"
      ],
      "metadata": {
        "colab": {
          "base_uri": "https://localhost:8080/"
        },
        "id": "HnDOsCCRl3VI",
        "outputId": "5e4a562e-d6c3-4797-a620-7397b062a3c2"
      },
      "execution_count": null,
      "outputs": [
        {
          "output_type": "execute_result",
          "data": {
            "text/plain": [
              "0    1000\n",
              "1    1000\n",
              "2    1000\n",
              "3    1000\n",
              "4    1000\n",
              "5    1000\n",
              "6    1000\n",
              "7    1000\n",
              "8    1000\n",
              "9    1000\n",
              "dtype: int64"
            ]
          },
          "metadata": {},
          "execution_count": 40
        }
      ]
    },
    {
      "cell_type": "markdown",
      "source": [
        "The dataset are balanced"
      ],
      "metadata": {
        "id": "8PBHNoLgmzmw"
      }
    },
    {
      "cell_type": "code",
      "source": [
        "raw_test_images.shape"
      ],
      "metadata": {
        "colab": {
          "base_uri": "https://localhost:8080/"
        },
        "id": "R7D-K4WB7QAL",
        "outputId": "c8c09832-f60c-4359-e442-7b8841411e70"
      },
      "execution_count": null,
      "outputs": [
        {
          "output_type": "execute_result",
          "data": {
            "text/plain": [
              "(10000, 28, 28)"
            ]
          },
          "metadata": {},
          "execution_count": 113
        }
      ]
    },
    {
      "cell_type": "code",
      "source": [
        "#transforming labels into categorical format using one-hot encoding\n",
        "#categorical_crossentropy requires that the labels are one-hot encoded format\n",
        "#The original labels dataset comes in integer targets format\n",
        "raw_labels = to_categorical(r_labels)\n",
        "test_labels = to_categorical(t_labels)"
      ],
      "metadata": {
        "id": "VQFIwVgEfts1"
      },
      "execution_count": null,
      "outputs": []
    },
    {
      "cell_type": "code",
      "source": [
        "#Split the raw train dataset into train and validation dataset\n",
        "raw_train_images, raw_val_images, train_labels, val_labels = train_test_split(raw_images, raw_labels, test_size=0.2, random_state=13)"
      ],
      "metadata": {
        "id": "gX9ZKLaZ05E6"
      },
      "execution_count": null,
      "outputs": []
    },
    {
      "cell_type": "code",
      "source": [
        "#Checking labels format\n",
        "print(train_labels.shape, val_labels.shape, test_labels.shape)"
      ],
      "metadata": {
        "colab": {
          "base_uri": "https://localhost:8080/"
        },
        "id": "j0wzSdt-dV40",
        "outputId": "1110743e-63e5-434a-d059-17611f9351b9"
      },
      "execution_count": null,
      "outputs": [
        {
          "output_type": "stream",
          "name": "stdout",
          "text": [
            "(48000, 10) (12000, 10) (10000, 10)\n"
          ]
        }
      ]
    },
    {
      "cell_type": "code",
      "source": [
        "#normalize the train data before training\n",
        "train_images_n = raw_train_images / 255\n",
        "test_images_n = raw_test_images / 255\n",
        "val_images_n = raw_val_images / 255\n",
        "print(train_images_n.max(), val_images_n.min(), test_images_n.max())"
      ],
      "metadata": {
        "colab": {
          "base_uri": "https://localhost:8080/"
        },
        "id": "BRoinTKUWyBH",
        "outputId": "a44014b2-1157-42eb-87ca-dc885cf6427f"
      },
      "execution_count": null,
      "outputs": [
        {
          "output_type": "stream",
          "name": "stdout",
          "text": [
            "1.0 0.0 1.0\n"
          ]
        }
      ]
    },
    {
      "cell_type": "code",
      "source": [
        "#Reshape the train data as Keras need 4 dimensions\n",
        "train_images = train_images_n.reshape(48000,28,28,1)\n",
        "test_images = test_images_n.reshape(10000,28,28,1)\n",
        "val_images = val_images_n.reshape(12000,28,28,1)"
      ],
      "metadata": {
        "id": "IkhFP10VXpR9"
      },
      "execution_count": null,
      "outputs": []
    },
    {
      "cell_type": "code",
      "source": [
        "#Checking train data format (images)\n",
        "print(train_images.shape, val_images.shape, test_images.shape)"
      ],
      "metadata": {
        "colab": {
          "base_uri": "https://localhost:8080/"
        },
        "id": "ocWQzLCdQ015",
        "outputId": "854a3e44-6473-47f5-cd78-893139a80348"
      },
      "execution_count": null,
      "outputs": [
        {
          "output_type": "stream",
          "name": "stdout",
          "text": [
            "(48000, 28, 28, 1) (12000, 28, 28, 1) (10000, 28, 28, 1)\n"
          ]
        }
      ]
    },
    {
      "cell_type": "markdown",
      "source": [
        "##Applying CNN model"
      ],
      "metadata": {
        "id": "m9anzzA3S1nu"
      }
    },
    {
      "cell_type": "code",
      "source": [
        "import keras\n",
        "from keras.models import Sequential\n",
        "from keras.layers import Dense, Dropout, Flatten\n",
        "from keras.layers import Conv2D, MaxPooling2D\n",
        "\n",
        "batch_size = 256\n",
        "num_classes = 10\n",
        "epochs = 10\n",
        "\n",
        "#input image dimensions, in this example the images are 28x28 pixels\n",
        "img_rows, img_cols = 28, 28\n",
        "input_shape = (img_rows, img_cols, 1)\n",
        "\n",
        "#Crearing the CNN model to clasiffy multiclass variable with 10 classes\n",
        "model = Sequential()\n",
        "model.add(Conv2D(32, kernel_size=(3, 3),\n",
        "                 activation='relu',\n",
        "                 kernel_initializer='he_normal',\n",
        "                 input_shape=input_shape))\n",
        "model.add(MaxPooling2D((2, 2)))\n",
        "model.add(Dropout(0.25))\n",
        "model.add(Conv2D(64, (3, 3), activation='relu'))\n",
        "model.add(MaxPooling2D(pool_size=(2, 2)))\n",
        "model.add(Dropout(0.25))\n",
        "model.add(Conv2D(128, (3, 3), activation='relu'))\n",
        "model.add(Dropout(0.4))\n",
        "model.add(Flatten())\n",
        "model.add(Dense(128, activation='relu'))\n",
        "model.add(Dropout(0.3))\n",
        "model.add(Dense(num_classes, activation='softmax'))\n",
        "\n",
        "model.compile(loss=keras.losses.categorical_crossentropy,\n",
        "              optimizer=keras.optimizers.Adam(),\n",
        "              metrics=['accuracy'])"
      ],
      "metadata": {
        "id": "Y-HH7vYULotx"
      },
      "execution_count": null,
      "outputs": []
    },
    {
      "cell_type": "code",
      "source": [
        "model.summary()"
      ],
      "metadata": {
        "colab": {
          "base_uri": "https://localhost:8080/"
        },
        "id": "lWEO9IO0Otau",
        "outputId": "754d7e78-efc1-430f-9923-449f29d62f52"
      },
      "execution_count": null,
      "outputs": [
        {
          "output_type": "stream",
          "name": "stdout",
          "text": [
            "Model: \"sequential_2\"\n",
            "_________________________________________________________________\n",
            " Layer (type)                Output Shape              Param #   \n",
            "=================================================================\n",
            " conv2d (Conv2D)             (None, 26, 26, 32)        320       \n",
            "                                                                 \n",
            " max_pooling2d (MaxPooling2D  (None, 13, 13, 32)       0         \n",
            " )                                                               \n",
            "                                                                 \n",
            " dropout (Dropout)           (None, 13, 13, 32)        0         \n",
            "                                                                 \n",
            " conv2d_1 (Conv2D)           (None, 11, 11, 64)        18496     \n",
            "                                                                 \n",
            " max_pooling2d_1 (MaxPooling  (None, 5, 5, 64)         0         \n",
            " 2D)                                                             \n",
            "                                                                 \n",
            " dropout_1 (Dropout)         (None, 5, 5, 64)          0         \n",
            "                                                                 \n",
            " conv2d_2 (Conv2D)           (None, 3, 3, 128)         73856     \n",
            "                                                                 \n",
            " dropout_2 (Dropout)         (None, 3, 3, 128)         0         \n",
            "                                                                 \n",
            " flatten (Flatten)           (None, 1152)              0         \n",
            "                                                                 \n",
            " dense_2 (Dense)             (None, 128)               147584    \n",
            "                                                                 \n",
            " dropout_3 (Dropout)         (None, 128)               0         \n",
            "                                                                 \n",
            " dense_3 (Dense)             (None, 10)                1290      \n",
            "                                                                 \n",
            "=================================================================\n",
            "Total params: 241,546\n",
            "Trainable params: 241,546\n",
            "Non-trainable params: 0\n",
            "_________________________________________________________________\n"
          ]
        }
      ]
    },
    {
      "cell_type": "code",
      "source": [
        "#Fitting the training data into the model and evaluating the accuracy and loss\n",
        "#using the validation data at the end of each epoch\n",
        "history = model.fit(train_images, train_labels,\n",
        "          batch_size=batch_size,\n",
        "          epochs=epochs,\n",
        "          verbose=1,\n",
        "          validation_data=(val_images, val_labels))"
      ],
      "metadata": {
        "colab": {
          "base_uri": "https://localhost:8080/"
        },
        "id": "0Majp0zXO1Cj",
        "outputId": "fa673609-0547-4a95-f21b-993c940c64e7"
      },
      "execution_count": null,
      "outputs": [
        {
          "output_type": "stream",
          "name": "stdout",
          "text": [
            "Epoch 1/10\n",
            "188/188 [==============================] - 57s 298ms/step - loss: 0.8552 - accuracy: 0.6808 - val_loss: 0.5156 - val_accuracy: 0.8085\n",
            "Epoch 2/10\n",
            "188/188 [==============================] - 56s 298ms/step - loss: 0.5189 - accuracy: 0.8067 - val_loss: 0.4200 - val_accuracy: 0.8486\n",
            "Epoch 3/10\n",
            "188/188 [==============================] - 54s 290ms/step - loss: 0.4307 - accuracy: 0.8412 - val_loss: 0.3478 - val_accuracy: 0.8777\n",
            "Epoch 4/10\n",
            "188/188 [==============================] - 57s 302ms/step - loss: 0.3869 - accuracy: 0.8576 - val_loss: 0.3253 - val_accuracy: 0.8819\n",
            "Epoch 5/10\n",
            "188/188 [==============================] - 53s 285ms/step - loss: 0.3591 - accuracy: 0.8694 - val_loss: 0.3031 - val_accuracy: 0.8884\n",
            "Epoch 6/10\n",
            "188/188 [==============================] - 53s 284ms/step - loss: 0.3381 - accuracy: 0.8768 - val_loss: 0.2915 - val_accuracy: 0.8942\n",
            "Epoch 7/10\n",
            "188/188 [==============================] - 55s 291ms/step - loss: 0.3187 - accuracy: 0.8832 - val_loss: 0.2869 - val_accuracy: 0.8973\n",
            "Epoch 8/10\n",
            "188/188 [==============================] - 55s 291ms/step - loss: 0.3121 - accuracy: 0.8852 - val_loss: 0.2715 - val_accuracy: 0.9008\n",
            "Epoch 9/10\n",
            "188/188 [==============================] - 53s 282ms/step - loss: 0.2991 - accuracy: 0.8905 - val_loss: 0.2698 - val_accuracy: 0.9020\n",
            "Epoch 10/10\n",
            "188/188 [==============================] - 54s 285ms/step - loss: 0.2872 - accuracy: 0.8950 - val_loss: 0.2609 - val_accuracy: 0.9069\n"
          ]
        }
      ]
    },
    {
      "cell_type": "markdown",
      "source": [
        "\n",
        "### Evaluating the results"
      ],
      "metadata": {
        "id": "YlZ2MCffyxgo"
      }
    },
    {
      "cell_type": "code",
      "source": [
        "#Evaluating the model with the evaluate function and the test data\n",
        "score = model.evaluate(test_images, test_labels, verbose=0)\n",
        "print('Test loss: {}'.format(score[0]))\n",
        "print('Test accuracy: {}'.format(score[1]))"
      ],
      "metadata": {
        "colab": {
          "base_uri": "https://localhost:8080/"
        },
        "id": "B6Vso8C1oUzH",
        "outputId": "68b2483d-8acb-41ac-fc97-46bcef5e5999"
      },
      "execution_count": null,
      "outputs": [
        {
          "output_type": "stream",
          "name": "stdout",
          "text": [
            "Test loss: 0.2654368281364441\n",
            "Test accuracy: 0.9041000008583069\n"
          ]
        }
      ]
    },
    {
      "cell_type": "code",
      "source": [
        "#get the predictions using the test data as inputs\n",
        "predicted_classes = np.argmax(model.predict(test_images), axis=-1)\n",
        "\n",
        "#get classification report\n",
        "target_names = [\"Class {}\".format(i) for i in range(num_classes)]\n",
        "print(classification_report(t_labels, predicted_classes, target_names=target_names))"
      ],
      "metadata": {
        "colab": {
          "base_uri": "https://localhost:8080/"
        },
        "id": "jtBziTZ7u2_x",
        "outputId": "1b2fc40b-7a6a-4ed5-d518-37ac4eabaf11"
      },
      "execution_count": null,
      "outputs": [
        {
          "output_type": "stream",
          "name": "stdout",
          "text": [
            "313/313 [==============================] - 4s 14ms/step\n",
            "              precision    recall  f1-score   support\n",
            "\n",
            "     Class 0       0.83      0.88      0.85      1000\n",
            "     Class 1       1.00      0.97      0.98      1000\n",
            "     Class 2       0.83      0.89      0.86      1000\n",
            "     Class 3       0.88      0.93      0.91      1000\n",
            "     Class 4       0.85      0.84      0.85      1000\n",
            "     Class 5       0.99      0.96      0.98      1000\n",
            "     Class 6       0.77      0.66      0.71      1000\n",
            "     Class 7       0.95      0.96      0.95      1000\n",
            "     Class 8       0.98      0.97      0.98      1000\n",
            "     Class 9       0.95      0.97      0.96      1000\n",
            "\n",
            "    accuracy                           0.90     10000\n",
            "   macro avg       0.90      0.90      0.90     10000\n",
            "weighted avg       0.90      0.90      0.90     10000\n",
            "\n"
          ]
        }
      ]
    },
    {
      "cell_type": "markdown",
      "source": [
        "### Plotting the results"
      ],
      "metadata": {
        "id": "XAdaWL3Rrvd4"
      }
    },
    {
      "cell_type": "code",
      "source": [
        "accuracy = history.history['accuracy']\n",
        "val_accuracy = history.history['val_accuracy']\n",
        "loss = history.history['loss']\n",
        "val_loss = history.history['val_loss']\n",
        "epochs = range(len(accuracy))\n",
        "plt.plot(epochs, accuracy, 'bo', label='Training accuracy')\n",
        "plt.plot(epochs, val_accuracy, 'b', label='Validation accuracy')\n",
        "plt.title('Training and validation accuracy')\n",
        "plt.legend()\n",
        "plt.figure()\n",
        "plt.plot(epochs, loss, 'bo', label='Training loss')\n",
        "plt.plot(epochs, val_loss, 'b', label='Validation loss')\n",
        "plt.title('Training and validation loss')\n",
        "plt.legend()\n",
        "plt.show()"
      ],
      "metadata": {
        "colab": {
          "base_uri": "https://localhost:8080/",
          "height": 545
        },
        "id": "qwqTpeddqkau",
        "outputId": "d313e240-bf1f-4937-eaf8-9828fa994285"
      },
      "execution_count": null,
      "outputs": [
        {
          "output_type": "display_data",
          "data": {
            "text/plain": [
              "<Figure size 432x288 with 1 Axes>"
            ],
            "image/png": "[encoded data removed]"
          },
          "metadata": {
            "needs_background": "light"
          }
        },
        {
          "output_type": "display_data",
          "data": {
            "text/plain": [
              "<Figure size 432x288 with 1 Axes>"
            ],
            "image/png": "[encoded data removed]"
          },
          "metadata": {
            "needs_background": "light"
          }
        }
      ]
    },
    {
      "cell_type": "markdown",
      "source": [
        "### Making a prediction"
      ],
      "metadata": {
        "id": "tOEboejgZvw9"
      }
    },
    {
      "cell_type": "code",
      "source": [
        "#Printing the image in the index 20 into the test dataset\n",
        "fig, ax1 = plt.subplots()\n",
        "fig.set_size_inches([1,1])\n",
        "ax1.imshow(raw_test_images[20])\n",
        "print(class_names[t_labels[20]])"
      ],
      "metadata": {
        "colab": {
          "base_uri": "https://localhost:8080/",
          "height": 122
        },
        "id": "yYrur5KoWTls",
        "outputId": "7c8ac8c4-17b4-4061-b8a5-c6eaa5842bbf"
      },
      "execution_count": null,
      "outputs": [
        {
          "output_type": "stream",
          "name": "stdout",
          "text": [
            "Pullover\n"
          ]
        },
        {
          "output_type": "display_data",
          "data": {
            "text/plain": [
              "<Figure size 72x72 with 1 Axes>"
            ],
            "image/png": "[encoded data removed]"
          },
          "metadata": {
            "needs_background": "light"
          }
        }
      ]
    },
    {
      "cell_type": "code",
      "source": [
        "#Making the predictions on the test_images dataset\n",
        "predictions = model.predict(test_images)"
      ],
      "metadata": {
        "colab": {
          "base_uri": "https://localhost:8080/"
        },
        "id": "1ThV8BmHWQ1B",
        "outputId": "c7b4291b-8164-4341-970b-36c38c86f8c5"
      },
      "execution_count": null,
      "outputs": [
        {
          "output_type": "stream",
          "name": "stdout",
          "text": [
            "313/313 [==============================] - 4s 14ms/step\n"
          ]
        }
      ]
    },
    {
      "cell_type": "code",
      "source": [
        "#Predicting the class of the image in the index 20 in the predictions dataset\n",
        "class_names[np.argmax(predictions[20])]"
      ],
      "metadata": {
        "colab": {
          "base_uri": "https://localhost:8080/",
          "height": 35
        },
        "id": "BDM7-2HRY3Eu",
        "outputId": "0ba2589d-f98a-4fa5-f13b-7dd605fcff9a"
      },
      "execution_count": null,
      "outputs": [
        {
          "output_type": "execute_result",
          "data": {
            "text/plain": [
              "'Pullover'"
            ],
            "application/vnd.google.colaboratory.intrinsic+json": {
              "type": "string"
            }
          },
          "metadata": {},
          "execution_count": 35
        }
      ]
    },
    {
      "cell_type": "markdown",
      "source": [
        "#References"
      ],
      "metadata": {
        "id": "HWu2wUYaEA2T"
      }
    },
    {
      "cell_type": "markdown",
      "source": [
        "*   MRINALWALIA, (2022), Keras.Conv2D Class at: https://www.geeksforgeeks.org/keras-conv2d-class/ Accessed: 15/12/2022\n",
        "\n",
        "*   The TensorFlow Authors and RStudio, PBC, (2022), Basic Image Classification at: https://tensorflow.rstudio.com/tutorials/keras/classification accessed: 13/12/2022\n",
        "\n",
        "*   Aditya Sharma, (2017), Convolutional Neural Networks in Python with Keras at: https://www.datacamp.com/tutorial/convolutional-neural-networks-python accessed:10/12/2022\n",
        "\n",
        "*   BGO (2018), CNN with Keras at: https://www.kaggle.com/code/bugraokcu/cnn-with-keras accessed: 10/12/2022\n",
        "\n",
        "*   Keras, (2022), Keras manual, Keras Applications at: https://keras.io/api/applications/#resnet50 Accessed: 10/12/2022\n",
        "\n",
        "*   ARUNKUMAR VENKATARAMANAN, (2018), Awesome CV with Fashion MNIST Classification at: https://www.kaggle.com/code/surajyathinatti/transfer-learning-confusion-matrix-class-report accessed: 02/12/2022\n",
        "\n",
        "\n",
        "*   CHIRAG GOYAL, (2021), Demystifying the Difference Between Multi-Class and Multi-Label Classification Problem Statements in Deep Learning at: https://www.analyticsvidhya.com/blog/2021/07/demystifying-the-difference-between-multi-class-and-multi-label-classification-problem-statements-in-deep-learning/ accessed: 04/12/2022\n",
        "\n",
        "\n",
        "*   KUTUB KAPADIA, (2022), Fashion MNIST with TensorFlow at: https://www.kaggle.com/code/kutubkapadia/fashion-mnist-with-tensorflow accessed: 07/12/2022\n",
        "\n",
        "*   krispective, (2021), Multi-Class Image Classification using transfer learning with deep convolutional neural networks at: https://medium.com/analytics-vidhya/multi-class-image-classification-using-transfer-learning-with-deep-convolutional-neural-networks-eab051cde3fb accessed: 01/12/2022\n",
        "\n",
        "*   Christian Versloot, (2022), how-to-use-sparse-categorical-crossentropy-in-keras.md [GitHub]. 15 February. Available at: https://github.com/christianversloot/machine-learning-articles/blob/main/how-to-use-sparse-categorical-crossentropy-in-keras.md accessed: 22/11/2022\n",
        "\n",
        "*   Keras, (2022), Keras manual, Image classification from scratch\n",
        " at: https://keras.io/examples/vision/image_classification_from_scratch/ Accessed: 10/12/2022"
      ],
      "metadata": {
        "id": "NYIcNEa6h5yu"
      }
    }
  ]
}